{
  "nbformat": 4,
  "nbformat_minor": 0,
  "metadata": {
    "colab": {
      "provenance": [],
      "include_colab_link": true
    },
    "kernelspec": {
      "name": "python3",
      "display_name": "Python 3"
    },
    "language_info": {
      "name": "python"
    }
  },
  "cells": [
    {
      "cell_type": "markdown",
      "metadata": {
        "id": "view-in-github",
        "colab_type": "text"
      },
      "source": [
        "<a href=\"https://colab.research.google.com/github/AleemRahil/Robust-End-to-End-E-Commerce-Analytics-Automation-with-LLMs/blob/main/Talk_to_Private_Data_with_Meta_llama3.ipynb\" target=\"_parent\"><img src=\"https://colab.research.google.com/assets/colab-badge.svg\" alt=\"Open In Colab\"/></a>"
      ]
    },
    {
      "cell_type": "markdown",
      "source": [
        "#Smart & Private Data Analysis with Llama 3"
      ],
      "metadata": {
        "id": "4NUSNMV4mLc6"
      }
    },
    {
      "cell_type": "code",
      "execution_count": null,
      "metadata": {
        "id": "oqL6dN9W8sCG"
      },
      "outputs": [],
      "source": [
        "!pip install -qU \\\n",
        "  python-dotenv \\\n",
        "  langchain \\\n",
        "  groq \\\n",
        "  langchain-groq \\\n",
        "  google-cloud-bigquery"
      ]
    },
    {
      "cell_type": "markdown",
      "source": [
        "In this project, I will explore how to generate insights from BigQuery using Llama 3 and Langchain. The focus will be on handling errors gracefully and feeding them back into the chain for iterative improvement."
      ],
      "metadata": {
        "id": "etwq8QrOmRAt"
      }
    },
    {
      "cell_type": "markdown",
      "source": [
        "A significant advantage of using LLMs for insight extraction is the substantial efficiency gains. Traditional methods often involve manual exploration of the data, trial and error with SQL queries, and a lot of back-and-forth between data analysts and stakeholders. With LLMs and Langchain, we can automate much of this process, enabling us to retrieve relevant information quickly based on natural language queries.\n",
        "\n",
        "One key challenge in working with large datasets is dealing with sensitive or private information. Many companies have strict security requirements that prevent them from using external services like OpenAI or Anthropic to process their data. This is where Llama 3 comes in - it allows us to run LLM-based SQL pipelines locally, ensuring that sensitive data remains secure within the organization's infrastructure.\n",
        "\n",
        "Generating SQL queries from natural language is not always a straightforward process, and there may be cases where the generated query is invalid or doesn't quite match the user's intent. To address this, I'll implement a retry mechanism that captures error messages and feeds them back into the chain. This allows the system to learn from its mistakes and generate more accurate queries in subsequent attempts."
      ],
      "metadata": {
        "id": "kJIvN-hGmY8u"
      }
    },
    {
      "cell_type": "markdown",
      "source": [
        "I'll use GroqCloud to test the model's data analysis capabilities to keep it simple"
      ],
      "metadata": {
        "id": "yuDvtPLZmlHC"
      }
    },
    {
      "cell_type": "markdown",
      "source": [
        "#Setting Up the Environment\n"
      ],
      "metadata": {
        "id": "ZYb5Cqo5moPX"
      }
    },
    {
      "cell_type": "code",
      "source": [
        "import json\n",
        "import os\n",
        "from datetime import datetime\n",
        "\n",
        "from dotenv import load_dotenv\n",
        "\n",
        "load_dotenv()"
      ],
      "metadata": {
        "colab": {
          "base_uri": "https://localhost:8080/"
        },
        "id": "UobE9TgeCXSD",
        "outputId": "cbc881d7-948e-4997-bbaa-6cf5145308a4"
      },
      "execution_count": null,
      "outputs": [
        {
          "output_type": "execute_result",
          "data": {
            "text/plain": [
              "True"
            ]
          },
          "metadata": {},
          "execution_count": 42
        }
      ]
    },
    {
      "cell_type": "markdown",
      "source": [
        "#Authenticating with BigQuery\n"
      ],
      "metadata": {
        "id": "UZ491mKWmtFZ"
      }
    },
    {
      "cell_type": "code",
      "source": [
        "from google.cloud import bigquery\n",
        "from google.oauth2 import service_account\n",
        "\n",
        "service_account_path = './gbqkey.json'\n",
        "dataset=\"ecomdata_bi\"\n",
        "full_dataset_id = f\"rabbitpromotion.{dataset}\"\n",
        "\n",
        "credentials = service_account.Credentials.from_service_account_file(service_account_path)\n",
        "gbq_client = bigquery.Client(credentials=credentials, project=credentials.project_id)"
      ],
      "metadata": {
        "id": "ofLenEhTCcv1"
      },
      "execution_count": null,
      "outputs": []
    },
    {
      "cell_type": "code",
      "source": [
        "import schema"
      ],
      "metadata": {
        "id": "hkwhlj337div"
      },
      "execution_count": null,
      "outputs": []
    },
    {
      "cell_type": "code",
      "source": [
        " print(schema.fetch_schemas(full_dataset_id,gbq_client))"
      ],
      "metadata": {
        "id": "sv-qMbHk7n8O",
        "colab": {
          "base_uri": "https://localhost:8080/"
        },
        "outputId": "52344915-048a-461a-f9d3-ae6d40450ac6"
      },
      "execution_count": null,
      "outputs": [
        {
          "output_type": "stream",
          "name": "stdout",
          "text": [
            "- rabbitpromotion.ecomdata_bi.customer_tags\n",
            "- rabbitpromotion.ecomdata_bi.customers\n",
            "- rabbitpromotion.ecomdata_bi.orders\n",
            "- rabbitpromotion.ecomdata_bi.products\n",
            "\n",
            "Schema for customer_tags:\n",
            "- Name: id, Type: STRING, Mode: REQUIRED\n",
            "- Name: acquisitionSource, Type: STRING, Mode: NULLABLE\n",
            "- Name: campaignInfo, Type: STRING, Mode: NULLABLE\n",
            "- Name: discountFirstPurchase, Type: INTEGER, Mode: NULLABLE\n",
            "- Name: daysToConversion, Type: INTEGER, Mode: NULLABLE\n",
            "- Name: predictedGender, Type: STRING, Mode: NULLABLE\n",
            "- Name: predictedGeneration, Type: STRING, Mode: NULLABLE\n",
            "\n",
            "Schema for customers:\n",
            "- Name: id, Type: STRING, Mode: REQUIRED\n",
            "- Name: emailMarketingConsent, Type: RECORD, Mode: NULLABLE\n",
            "    - Name: consentUpdatedAt, Type: TIMESTAMP, Mode: NULLABLE\n",
            "    - Name: marketingOptInLevel, Type: STRING, Mode: NULLABLE\n",
            "    - Name: marketingState, Type: STRING, Mode: NULLABLE\n",
            "- Name: createdAt, Type: TIMESTAMP, Mode: NULLABLE\n",
            "- Name: updatedAt, Type: TIMESTAMP, Mode: NULLABLE\n",
            "- Name: firstName, Type: STRING, Mode: NULLABLE\n",
            "- Name: lastName, Type: STRING, Mode: NULLABLE\n",
            "- Name: tags, Type: STRING, Mode: REPEATED\n",
            "- Name: email, Type: STRING, Mode: NULLABLE\n",
            "- Name: address, Type: STRING, Mode: NULLABLE\n",
            "- Name: city, Type: STRING, Mode: NULLABLE\n",
            "- Name: state, Type: STRING, Mode: NULLABLE\n",
            "\n",
            "Schema for orders:\n",
            "- Name: id, Type: STRING, Mode: REQUIRED\n",
            "- Name: createdAt, Type: TIMESTAMP, Mode: NULLABLE\n",
            "- Name: currencyCode, Type: STRING, Mode: NULLABLE\n",
            "- Name: customer, Type: RECORD, Mode: NULLABLE\n",
            "    - Name: id, Type: STRING, Mode: REQUIRED\n",
            "    - Name: firstName, Type: STRING, Mode: NULLABLE\n",
            "    - Name: lastName, Type: STRING, Mode: NULLABLE\n",
            "- Name: lineItems, Type: RECORD, Mode: REPEATED\n",
            "    - Name: id, Type: STRING, Mode: REQUIRED\n",
            "    - Name: title, Type: STRING, Mode: NULLABLE\n",
            "    - Name: variantId, Type: STRING, Mode: NULLABLE\n",
            "    - Name: variantTitle, Type: STRING, Mode: NULLABLE\n",
            "    - Name: productId, Type: STRING, Mode: NULLABLE\n",
            "    - Name: price, Type: FLOAT, Mode: NULLABLE\n",
            "- Name: updatedAt, Type: TIMESTAMP, Mode: NULLABLE\n",
            "\n",
            "Schema for products:\n",
            "- Name: id, Type: STRING, Mode: NULLABLE\n",
            "- Name: title, Type: STRING, Mode: NULLABLE\n",
            "- Name: variantId, Type: STRING, Mode: NULLABLE\n",
            "- Name: variantTitle, Type: STRING, Mode: NULLABLE\n",
            "- Name: productId, Type: STRING, Mode: NULLABLE\n",
            "\n"
          ]
        }
      ]
    },
    {
      "cell_type": "markdown",
      "source": [
        "#Configuring the Language Model"
      ],
      "metadata": {
        "id": "azP2bIRxm1bW"
      }
    },
    {
      "cell_type": "code",
      "source": [
        "from langchain_core.prompts import ChatPromptTemplate\n",
        "from langchain_groq import ChatGroq\n",
        "\n",
        "llm_groq = ChatGroq(temperature=0.2, model_name=\"llama3-70b-8192\")\n",
        "\n"
      ],
      "metadata": {
        "id": "tFfiEE3I6Hx1"
      },
      "execution_count": null,
      "outputs": []
    },
    {
      "cell_type": "code",
      "source": [
        "template = \"\"\"Based on the BigQuery schema below, and the message history, write a\n",
        "SQL query that answers the question/request.\n",
        "\n",
        "Remember to UNNEST repeated records and make sure only to use exisiting fields in the schema:\n",
        "\n",
        "schema:{schema}\n",
        "\n",
        "Question: {question}\n",
        "\n",
        "Message history: {messages}\n",
        "\n",
        "SQL Query:\"\"\"\n",
        "prompt = ChatPromptTemplate.from_template(template)"
      ],
      "metadata": {
        "id": "FD_VQmxK6VrU"
      },
      "execution_count": null,
      "outputs": []
    },
    {
      "cell_type": "code",
      "source": [
        "from langchain_core.output_parsers import StrOutputParser\n",
        "from langchain_core.runnables import RunnablePassthrough\n",
        "\n",
        "from langchain.memory import ChatMessageHistory"
      ],
      "metadata": {
        "id": "bI1UNbOA6fvS"
      },
      "execution_count": null,
      "outputs": []
    },
    {
      "cell_type": "markdown",
      "source": [
        "#Setting Up the Pipeline\n"
      ],
      "metadata": {
        "id": "4fflGcWcm5Gz"
      }
    },
    {
      "cell_type": "code",
      "source": [
        "hist = ChatMessageHistory()\n",
        "\n",
        "def get_schema(_):\n",
        "    return schema.fetch_schemas(full_dataset_id,gbq_client)\n",
        "\n",
        "def get_messages(_):\n",
        "    #print(hist.messages)\n",
        "    return hist.messages\n",
        "\n",
        "\n",
        "sql_response = (\n",
        "    RunnablePassthrough.assign(schema=get_schema, messages=get_messages)\n",
        "    | prompt\n",
        "    | llm_groq\n",
        "    | StrOutputParser()\n",
        ")"
      ],
      "metadata": {
        "id": "9qUjuwBh6gNK"
      },
      "execution_count": null,
      "outputs": []
    },
    {
      "cell_type": "markdown",
      "source": [
        "#Extracting SQL from Generated Text"
      ],
      "metadata": {
        "id": "H1IIYNUBm9nD"
      }
    },
    {
      "cell_type": "code",
      "source": [
        "import re\n",
        "\n",
        "def extract_sql(input_text):\n",
        "    # Check if the input contains triple backticks\n",
        "    if '```' in input_text:\n",
        "        # Regex to extract content within triple backticks\n",
        "        pattern = re.compile(r'```(.*?)```', re.DOTALL)\n",
        "        match = pattern.search(input_text)\n",
        "        if match:\n",
        "            return match.group(1).strip()  # Return the cleaned, extracted SQL\n",
        "    # If no triple backticks are found, return the input as is\n",
        "    return input_text.strip()"
      ],
      "metadata": {
        "id": "BxjlgSS96pZv"
      },
      "execution_count": null,
      "outputs": []
    },
    {
      "cell_type": "markdown",
      "source": [
        "#Executing Queries with Retry Mechanism"
      ],
      "metadata": {
        "id": "SaO1bkijnCr4"
      }
    },
    {
      "cell_type": "code",
      "source": [
        "from google.cloud.exceptions import BadRequest\n",
        "\n",
        "def execute_query_with_retries(my_query, max_attempts=5):\n",
        "    attempts = 0\n",
        "    while attempts < max_attempts:\n",
        "        attempts += 1\n",
        "        print(f\"Attempt {attempts} of {max_attempts}\")\n",
        "        # Invoke the external SQL service\n",
        "        print(\"Generating the SQL\")\n",
        "        res = sql_response.invoke({\"question\": my_query})\n",
        "        clean_sql = extract_sql(res)\n",
        "        try:\n",
        "            print(\"Attempting to run the query and convert it to a DataFrame\")\n",
        "            dataframe = gbq_client.query(clean_sql).to_dataframe()\n",
        "            print(\"Query executed successfully.\")\n",
        "            return dataframe\n",
        "        except BadRequest as e:\n",
        "            # Print or store the error message\n",
        "            error_message = str(e)\n",
        "            print(\"Query failed with the following error:\")\n",
        "            print(error_message)\n",
        "            hist.add_user_message(clean_sql + ': ' + error_message)\n",
        "            if attempts == max_attempts:\n",
        "                print(\"Reached maximum attempt limit. Stopping retries.\")\n",
        "                return None  # Return None if all retries fail\n"
      ],
      "metadata": {
        "id": "TYswtlhN65DK"
      },
      "execution_count": null,
      "outputs": []
    },
    {
      "cell_type": "markdown",
      "source": [
        "#Generating Insights\n"
      ],
      "metadata": {
        "id": "KiIdq6F9nGFo"
      }
    },
    {
      "cell_type": "code",
      "source": [
        "hist = ChatMessageHistory()\n",
        "\n",
        "my_query = \"\"\"\n",
        "Give me the name of the top 100 customers with highest purchase frequency but with under average AOV.\n",
        "Include frequency and aov\"\"\"\n",
        "\n",
        "df = execute_query_with_retries(my_query)"
      ],
      "metadata": {
        "colab": {
          "base_uri": "https://localhost:8080/"
        },
        "id": "4vt3q6Ja7FGm",
        "outputId": "946de1a1-6302-4c19-b22b-0272a2ee538f"
      },
      "execution_count": null,
      "outputs": [
        {
          "output_type": "stream",
          "name": "stdout",
          "text": [
            "Attempt 1 of 5\n",
            "Generating the SQL\n",
            "Attempting to run the query and convert it to a DataFrame\n",
            "Query failed with the following error:\n",
            "Attempt 2 of 5\n",
            "Generating the SQL\n",
            "Attempting to run the query and convert it to a DataFrame\n",
            "Query failed with the following error:\n",
            "Attempt 3 of 5\n",
            "Generating the SQL\n",
            "Attempting to run the query and convert it to a DataFrame\n",
            "Query executed successfully.\n"
          ]
        }
      ]
    },
    {
      "cell_type": "code",
      "source": [
        "df"
      ],
      "metadata": {
        "colab": {
          "base_uri": "https://localhost:8080/",
          "height": 423
        },
        "id": "MCW_ZXYzt-1D",
        "outputId": "e5ab425b-e01a-4e09-8217-f8ecc4027de7"
      },
      "execution_count": null,
      "outputs": [
        {
          "output_type": "execute_result",
          "data": {
            "text/plain": [
              "   firstName  lastName  purchase_frequency  avg_order_value\n",
              "0    Michael    Harris                   6       383.998333\n",
              "1    Brandon     Bates                   6       424.055000\n",
              "2     Robert    Garcia                   6       306.633333\n",
              "3   Jonathan    Holder                   6       442.136667\n",
              "4     Edward     Payne                   6       461.783333\n",
              "..       ...       ...                 ...              ...\n",
              "95     Maria    Wilson                   4       312.665000\n",
              "96   Jessica  Williams                   4       384.367500\n",
              "97     Susan   Gardner                   4       322.785000\n",
              "98   Charles    Thomas                   4       459.787500\n",
              "99     Tammy     Scott                   4       444.522500\n",
              "\n",
              "[100 rows x 4 columns]"
            ],
            "text/html": [
              "\n",
              "  <div id=\"df-85db2c99-ffbf-4259-845f-699540d083bf\" class=\"colab-df-container\">\n",
              "    <div>\n",
              "<style scoped>\n",
              "    .dataframe tbody tr th:only-of-type {\n",
              "        vertical-align: middle;\n",
              "    }\n",
              "\n",
              "    .dataframe tbody tr th {\n",
              "        vertical-align: top;\n",
              "    }\n",
              "\n",
              "    .dataframe thead th {\n",
              "        text-align: right;\n",
              "    }\n",
              "</style>\n",
              "<table border=\"1\" class=\"dataframe\">\n",
              "  <thead>\n",
              "    <tr style=\"text-align: right;\">\n",
              "      <th></th>\n",
              "      <th>firstName</th>\n",
              "      <th>lastName</th>\n",
              "      <th>purchase_frequency</th>\n",
              "      <th>avg_order_value</th>\n",
              "    </tr>\n",
              "  </thead>\n",
              "  <tbody>\n",
              "    <tr>\n",
              "      <th>0</th>\n",
              "      <td>Michael</td>\n",
              "      <td>Harris</td>\n",
              "      <td>6</td>\n",
              "      <td>383.998333</td>\n",
              "    </tr>\n",
              "    <tr>\n",
              "      <th>1</th>\n",
              "      <td>Brandon</td>\n",
              "      <td>Bates</td>\n",
              "      <td>6</td>\n",
              "      <td>424.055000</td>\n",
              "    </tr>\n",
              "    <tr>\n",
              "      <th>2</th>\n",
              "      <td>Robert</td>\n",
              "      <td>Garcia</td>\n",
              "      <td>6</td>\n",
              "      <td>306.633333</td>\n",
              "    </tr>\n",
              "    <tr>\n",
              "      <th>3</th>\n",
              "      <td>Jonathan</td>\n",
              "      <td>Holder</td>\n",
              "      <td>6</td>\n",
              "      <td>442.136667</td>\n",
              "    </tr>\n",
              "    <tr>\n",
              "      <th>4</th>\n",
              "      <td>Edward</td>\n",
              "      <td>Payne</td>\n",
              "      <td>6</td>\n",
              "      <td>461.783333</td>\n",
              "    </tr>\n",
              "    <tr>\n",
              "      <th>...</th>\n",
              "      <td>...</td>\n",
              "      <td>...</td>\n",
              "      <td>...</td>\n",
              "      <td>...</td>\n",
              "    </tr>\n",
              "    <tr>\n",
              "      <th>95</th>\n",
              "      <td>Maria</td>\n",
              "      <td>Wilson</td>\n",
              "      <td>4</td>\n",
              "      <td>312.665000</td>\n",
              "    </tr>\n",
              "    <tr>\n",
              "      <th>96</th>\n",
              "      <td>Jessica</td>\n",
              "      <td>Williams</td>\n",
              "      <td>4</td>\n",
              "      <td>384.367500</td>\n",
              "    </tr>\n",
              "    <tr>\n",
              "      <th>97</th>\n",
              "      <td>Susan</td>\n",
              "      <td>Gardner</td>\n",
              "      <td>4</td>\n",
              "      <td>322.785000</td>\n",
              "    </tr>\n",
              "    <tr>\n",
              "      <th>98</th>\n",
              "      <td>Charles</td>\n",
              "      <td>Thomas</td>\n",
              "      <td>4</td>\n",
              "      <td>459.787500</td>\n",
              "    </tr>\n",
              "    <tr>\n",
              "      <th>99</th>\n",
              "      <td>Tammy</td>\n",
              "      <td>Scott</td>\n",
              "      <td>4</td>\n",
              "      <td>444.522500</td>\n",
              "    </tr>\n",
              "  </tbody>\n",
              "</table>\n",
              "<p>100 rows × 4 columns</p>\n",
              "</div>\n",
              "    <div class=\"colab-df-buttons\">\n",
              "\n",
              "  <div class=\"colab-df-container\">\n",
              "    <button class=\"colab-df-convert\" onclick=\"convertToInteractive('df-85db2c99-ffbf-4259-845f-699540d083bf')\"\n",
              "            title=\"Convert this dataframe to an interactive table.\"\n",
              "            style=\"display:none;\">\n",
              "\n",
              "  <svg xmlns=\"http://www.w3.org/2000/svg\" height=\"24px\" viewBox=\"0 -960 960 960\">\n",
              "    <path d=\"M120-120v-720h720v720H120Zm60-500h600v-160H180v160Zm220 220h160v-160H400v160Zm0 220h160v-160H400v160ZM180-400h160v-160H180v160Zm440 0h160v-160H620v160ZM180-180h160v-160H180v160Zm440 0h160v-160H620v160Z\"/>\n",
              "  </svg>\n",
              "    </button>\n",
              "\n",
              "  <style>\n",
              "    .colab-df-container {\n",
              "      display:flex;\n",
              "      gap: 12px;\n",
              "    }\n",
              "\n",
              "    .colab-df-convert {\n",
              "      background-color: #E8F0FE;\n",
              "      border: none;\n",
              "      border-radius: 50%;\n",
              "      cursor: pointer;\n",
              "      display: none;\n",
              "      fill: #1967D2;\n",
              "      height: 32px;\n",
              "      padding: 0 0 0 0;\n",
              "      width: 32px;\n",
              "    }\n",
              "\n",
              "    .colab-df-convert:hover {\n",
              "      background-color: #E2EBFA;\n",
              "      box-shadow: 0px 1px 2px rgba(60, 64, 67, 0.3), 0px 1px 3px 1px rgba(60, 64, 67, 0.15);\n",
              "      fill: #174EA6;\n",
              "    }\n",
              "\n",
              "    .colab-df-buttons div {\n",
              "      margin-bottom: 4px;\n",
              "    }\n",
              "\n",
              "    [theme=dark] .colab-df-convert {\n",
              "      background-color: #3B4455;\n",
              "      fill: #D2E3FC;\n",
              "    }\n",
              "\n",
              "    [theme=dark] .colab-df-convert:hover {\n",
              "      background-color: #434B5C;\n",
              "      box-shadow: 0px 1px 3px 1px rgba(0, 0, 0, 0.15);\n",
              "      filter: drop-shadow(0px 1px 2px rgba(0, 0, 0, 0.3));\n",
              "      fill: #FFFFFF;\n",
              "    }\n",
              "  </style>\n",
              "\n",
              "    <script>\n",
              "      const buttonEl =\n",
              "        document.querySelector('#df-85db2c99-ffbf-4259-845f-699540d083bf button.colab-df-convert');\n",
              "      buttonEl.style.display =\n",
              "        google.colab.kernel.accessAllowed ? 'block' : 'none';\n",
              "\n",
              "      async function convertToInteractive(key) {\n",
              "        const element = document.querySelector('#df-85db2c99-ffbf-4259-845f-699540d083bf');\n",
              "        const dataTable =\n",
              "          await google.colab.kernel.invokeFunction('convertToInteractive',\n",
              "                                                    [key], {});\n",
              "        if (!dataTable) return;\n",
              "\n",
              "        const docLinkHtml = 'Like what you see? Visit the ' +\n",
              "          '<a target=\"_blank\" href=https://colab.research.google.com/notebooks/data_table.ipynb>data table notebook</a>'\n",
              "          + ' to learn more about interactive tables.';\n",
              "        element.innerHTML = '';\n",
              "        dataTable['output_type'] = 'display_data';\n",
              "        await google.colab.output.renderOutput(dataTable, element);\n",
              "        const docLink = document.createElement('div');\n",
              "        docLink.innerHTML = docLinkHtml;\n",
              "        element.appendChild(docLink);\n",
              "      }\n",
              "    </script>\n",
              "  </div>\n",
              "\n",
              "\n",
              "<div id=\"df-88ee879c-fba1-4146-8451-227406757ca7\">\n",
              "  <button class=\"colab-df-quickchart\" onclick=\"quickchart('df-88ee879c-fba1-4146-8451-227406757ca7')\"\n",
              "            title=\"Suggest charts\"\n",
              "            style=\"display:none;\">\n",
              "\n",
              "<svg xmlns=\"http://www.w3.org/2000/svg\" height=\"24px\"viewBox=\"0 0 24 24\"\n",
              "     width=\"24px\">\n",
              "    <g>\n",
              "        <path d=\"M19 3H5c-1.1 0-2 .9-2 2v14c0 1.1.9 2 2 2h14c1.1 0 2-.9 2-2V5c0-1.1-.9-2-2-2zM9 17H7v-7h2v7zm4 0h-2V7h2v10zm4 0h-2v-4h2v4z\"/>\n",
              "    </g>\n",
              "</svg>\n",
              "  </button>\n",
              "\n",
              "<style>\n",
              "  .colab-df-quickchart {\n",
              "      --bg-color: #E8F0FE;\n",
              "      --fill-color: #1967D2;\n",
              "      --hover-bg-color: #E2EBFA;\n",
              "      --hover-fill-color: #174EA6;\n",
              "      --disabled-fill-color: #AAA;\n",
              "      --disabled-bg-color: #DDD;\n",
              "  }\n",
              "\n",
              "  [theme=dark] .colab-df-quickchart {\n",
              "      --bg-color: #3B4455;\n",
              "      --fill-color: #D2E3FC;\n",
              "      --hover-bg-color: #434B5C;\n",
              "      --hover-fill-color: #FFFFFF;\n",
              "      --disabled-bg-color: #3B4455;\n",
              "      --disabled-fill-color: #666;\n",
              "  }\n",
              "\n",
              "  .colab-df-quickchart {\n",
              "    background-color: var(--bg-color);\n",
              "    border: none;\n",
              "    border-radius: 50%;\n",
              "    cursor: pointer;\n",
              "    display: none;\n",
              "    fill: var(--fill-color);\n",
              "    height: 32px;\n",
              "    padding: 0;\n",
              "    width: 32px;\n",
              "  }\n",
              "\n",
              "  .colab-df-quickchart:hover {\n",
              "    background-color: var(--hover-bg-color);\n",
              "    box-shadow: 0 1px 2px rgba(60, 64, 67, 0.3), 0 1px 3px 1px rgba(60, 64, 67, 0.15);\n",
              "    fill: var(--button-hover-fill-color);\n",
              "  }\n",
              "\n",
              "  .colab-df-quickchart-complete:disabled,\n",
              "  .colab-df-quickchart-complete:disabled:hover {\n",
              "    background-color: var(--disabled-bg-color);\n",
              "    fill: var(--disabled-fill-color);\n",
              "    box-shadow: none;\n",
              "  }\n",
              "\n",
              "  .colab-df-spinner {\n",
              "    border: 2px solid var(--fill-color);\n",
              "    border-color: transparent;\n",
              "    border-bottom-color: var(--fill-color);\n",
              "    animation:\n",
              "      spin 1s steps(1) infinite;\n",
              "  }\n",
              "\n",
              "  @keyframes spin {\n",
              "    0% {\n",
              "      border-color: transparent;\n",
              "      border-bottom-color: var(--fill-color);\n",
              "      border-left-color: var(--fill-color);\n",
              "    }\n",
              "    20% {\n",
              "      border-color: transparent;\n",
              "      border-left-color: var(--fill-color);\n",
              "      border-top-color: var(--fill-color);\n",
              "    }\n",
              "    30% {\n",
              "      border-color: transparent;\n",
              "      border-left-color: var(--fill-color);\n",
              "      border-top-color: var(--fill-color);\n",
              "      border-right-color: var(--fill-color);\n",
              "    }\n",
              "    40% {\n",
              "      border-color: transparent;\n",
              "      border-right-color: var(--fill-color);\n",
              "      border-top-color: var(--fill-color);\n",
              "    }\n",
              "    60% {\n",
              "      border-color: transparent;\n",
              "      border-right-color: var(--fill-color);\n",
              "    }\n",
              "    80% {\n",
              "      border-color: transparent;\n",
              "      border-right-color: var(--fill-color);\n",
              "      border-bottom-color: var(--fill-color);\n",
              "    }\n",
              "    90% {\n",
              "      border-color: transparent;\n",
              "      border-bottom-color: var(--fill-color);\n",
              "    }\n",
              "  }\n",
              "</style>\n",
              "\n",
              "  <script>\n",
              "    async function quickchart(key) {\n",
              "      const quickchartButtonEl =\n",
              "        document.querySelector('#' + key + ' button');\n",
              "      quickchartButtonEl.disabled = true;  // To prevent multiple clicks.\n",
              "      quickchartButtonEl.classList.add('colab-df-spinner');\n",
              "      try {\n",
              "        const charts = await google.colab.kernel.invokeFunction(\n",
              "            'suggestCharts', [key], {});\n",
              "      } catch (error) {\n",
              "        console.error('Error during call to suggestCharts:', error);\n",
              "      }\n",
              "      quickchartButtonEl.classList.remove('colab-df-spinner');\n",
              "      quickchartButtonEl.classList.add('colab-df-quickchart-complete');\n",
              "    }\n",
              "    (() => {\n",
              "      let quickchartButtonEl =\n",
              "        document.querySelector('#df-88ee879c-fba1-4146-8451-227406757ca7 button');\n",
              "      quickchartButtonEl.style.display =\n",
              "        google.colab.kernel.accessAllowed ? 'block' : 'none';\n",
              "    })();\n",
              "  </script>\n",
              "</div>\n",
              "    </div>\n",
              "  </div>\n"
            ],
            "application/vnd.google.colaboratory.intrinsic+json": {
              "type": "dataframe",
              "variable_name": "df",
              "summary": "{\n  \"name\": \"df\",\n  \"rows\": 100,\n  \"fields\": [\n    {\n      \"column\": \"firstName\",\n      \"properties\": {\n        \"dtype\": \"string\",\n        \"num_unique_values\": 84,\n        \"samples\": [\n          \"Brandy\",\n          \"Michael\",\n          \"Scott\"\n        ],\n        \"semantic_type\": \"\",\n        \"description\": \"\"\n      }\n    },\n    {\n      \"column\": \"lastName\",\n      \"properties\": {\n        \"dtype\": \"string\",\n        \"num_unique_values\": 84,\n        \"samples\": [\n          \"Taylor\",\n          \"Harris\",\n          \"Mathis\"\n        ],\n        \"semantic_type\": \"\",\n        \"description\": \"\"\n      }\n    },\n    {\n      \"column\": \"purchase_frequency\",\n      \"properties\": {\n        \"dtype\": \"Int64\",\n        \"num_unique_values\": 3,\n        \"samples\": [\n          6,\n          5,\n          4\n        ],\n        \"semantic_type\": \"\",\n        \"description\": \"\"\n      }\n    },\n    {\n      \"column\": \"avg_order_value\",\n      \"properties\": {\n        \"dtype\": \"number\",\n        \"std\": 67.23235639123733,\n        \"min\": 204.3875,\n        \"max\": 462.336,\n        \"num_unique_values\": 100,\n        \"samples\": [\n          250.98999999999998,\n          431.0625,\n          448.1575\n        ],\n        \"semantic_type\": \"\",\n        \"description\": \"\"\n      }\n    }\n  ]\n}"
            }
          },
          "metadata": {},
          "execution_count": 53
        }
      ]
    },
    {
      "cell_type": "code",
      "source": [],
      "metadata": {
        "id": "Ar2Q68MxyAdJ"
      },
      "execution_count": null,
      "outputs": []
    }
  ]
}