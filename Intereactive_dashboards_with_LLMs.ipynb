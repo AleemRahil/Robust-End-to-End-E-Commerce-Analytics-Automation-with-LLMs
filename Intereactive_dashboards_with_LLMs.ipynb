{
  "nbformat": 4,
  "nbformat_minor": 0,
  "metadata": {
    "colab": {
      "provenance": [],
      "include_colab_link": true
    },
    "kernelspec": {
      "name": "python3",
      "display_name": "Python 3"
    },
    "language_info": {
      "name": "python"
    }
  },
  "cells": [
    {
      "cell_type": "markdown",
      "metadata": {
        "id": "view-in-github",
        "colab_type": "text"
      },
      "source": [
        "<a href=\"https://colab.research.google.com/github/AleemRahil/Robust-End-to-End-E-Commerce-Analytics-Automation-with-LLMs/blob/main/Intereactive_dashboards_with_LLMs.ipynb\" target=\"_parent\"><img src=\"https://colab.research.google.com/assets/colab-badge.svg\" alt=\"Open In Colab\"/></a>"
      ]
    },
    {
      "cell_type": "markdown",
      "source": [
        "#Build Interactive Dashboards with LLMs in Minutes"
      ],
      "metadata": {
        "id": "6ufTyj9Ex9ky"
      }
    },
    {
      "cell_type": "markdown",
      "source": [
        "Extracting insights from customer data can be a time-consuming process, especially for those who lack advanced SQL skills. Many companies struggle to gain a clear understanding of important **acquisition and retention metrics** such as **repeat revenue**, **Customer Lifetime Value (CLV)**, **churn rate**s, or **product bundling opportunities**. Such a knowledge gap can impede business growth.\n",
        "\n",
        "Fortunately, large language models (**LLMs**) have fundamentally changed how we approach data analysis. By leveraging LLMs, we can extract meaningful information from databases with remarkable efficiency, effectively reducing the time required by a factor of ten. This opens new business possibilities to uncover actionable insights and make informed strategic decisions quickly.\n",
        "\n",
        "In this project, I will explore how to harness the capabilities of LLMs and LangChain to build **interactive dashboards** that provide a comprehensive view of your business data. I will use **LangChain** chains to **extract insights** from BigQuery and build the dashboards in **Looker Studio**. The process involves **generating SQL queries using LLMs** and then **pushing these queries to BigQuery** as views. While I will use **BigQuery** and Looker Studio as example platforms, the concepts and techniques covered in this tutorial can be easily extended to other data warehouses and dashboard tools."
      ],
      "metadata": {
        "id": "yZYnfgH5oPg_"
      }
    },
    {
      "cell_type": "markdown",
      "source": [
        "In this project, I have implemented the followed:\n",
        "\n",
        "*   Set up the necessary environment and dependencies\n",
        "*   Fetch BigQuery schemas to understand the structure of your data\n",
        "*   Connect to BigQuery using the appropriate credentials\n",
        "*   Configure and utilize LLMs, such as Claude-3, to generate SQL queries\n",
        "*   Create BigQuery views based on the generated SQL queries\n",
        "*   Load and process insights from a file to automate view creation\n",
        "*   Generate meaningful view names using LLMs\n",
        "*   Handle query execution failures and retries\n"
      ],
      "metadata": {
        "id": "Y5d4ow57qqRO"
      }
    },
    {
      "cell_type": "markdown",
      "source": [
        "#Setting up the Environment"
      ],
      "metadata": {
        "id": "ShwUxhyCrjoL"
      }
    },
    {
      "cell_type": "code",
      "execution_count": null,
      "metadata": {
        "colab": {
          "base_uri": "https://localhost:8080/"
        },
        "id": "T5gUDlDvxq_v",
        "outputId": "656c5be0-4153-4edc-8a15-715929dd3c2a"
      },
      "outputs": [
        {
          "output_type": "stream",
          "name": "stdout",
          "text": [
            "\u001b[?25l     \u001b[90m━━━━━━━━━━━━━━━━━━━━━━━━━━━━━━━━━━━━━━━━\u001b[0m \u001b[32m0.0/817.7 kB\u001b[0m \u001b[31m?\u001b[0m eta \u001b[36m-:--:--\u001b[0m\r\u001b[2K     \u001b[91m━━━━━━━━━━━━━━━━━━━━━━━━━━━━━━━━━━━━━━━\u001b[0m\u001b[91m╸\u001b[0m \u001b[32m809.0/817.7 kB\u001b[0m \u001b[31m32.8 MB/s\u001b[0m eta \u001b[36m0:00:01\u001b[0m\r\u001b[2K     \u001b[90m━━━━━━━━━━━━━━━━━━━━━━━━━━━━━━━━━━━━━━━━\u001b[0m \u001b[32m817.7/817.7 kB\u001b[0m \u001b[31m21.9 MB/s\u001b[0m eta \u001b[36m0:00:00\u001b[0m\n",
            "\u001b[2K     \u001b[90m━━━━━━━━━━━━━━━━━━━━━━━━━━━━━━━━━━━━━━━━\u001b[0m \u001b[32m870.7/870.7 kB\u001b[0m \u001b[31m50.7 MB/s\u001b[0m eta \u001b[36m0:00:00\u001b[0m\n",
            "\u001b[2K     \u001b[90m━━━━━━━━━━━━━━━━━━━━━━━━━━━━━━━━━━━━━━━━\u001b[0m \u001b[32m235.5/235.5 kB\u001b[0m \u001b[31m18.7 MB/s\u001b[0m eta \u001b[36m0:00:00\u001b[0m\n",
            "\u001b[2K     \u001b[90m━━━━━━━━━━━━━━━━━━━━━━━━━━━━━━━━━━━━━━━━\u001b[0m \u001b[32m1.9/1.9 MB\u001b[0m \u001b[31m61.6 MB/s\u001b[0m eta \u001b[36m0:00:00\u001b[0m\n",
            "\u001b[2K     \u001b[90m━━━━━━━━━━━━━━━━━━━━━━━━━━━━━━━━━━━━━━━━\u001b[0m \u001b[32m291.3/291.3 kB\u001b[0m \u001b[31m25.5 MB/s\u001b[0m eta \u001b[36m0:00:00\u001b[0m\n",
            "\u001b[2K     \u001b[90m━━━━━━━━━━━━━━━━━━━━━━━━━━━━━━━━━━━━━━━━\u001b[0m \u001b[32m115.2/115.2 kB\u001b[0m \u001b[31m12.0 MB/s\u001b[0m eta \u001b[36m0:00:00\u001b[0m\n",
            "\u001b[2K     \u001b[90m━━━━━━━━━━━━━━━━━━━━━━━━━━━━━━━━━━━━━━━━\u001b[0m \u001b[32m75.6/75.6 kB\u001b[0m \u001b[31m7.0 MB/s\u001b[0m eta \u001b[36m0:00:00\u001b[0m\n",
            "\u001b[2K     \u001b[90m━━━━━━━━━━━━━━━━━━━━━━━━━━━━━━━━━━━━━━━━\u001b[0m \u001b[32m49.4/49.4 kB\u001b[0m \u001b[31m3.8 MB/s\u001b[0m eta \u001b[36m0:00:00\u001b[0m\n",
            "\u001b[2K     \u001b[90m━━━━━━━━━━━━━━━━━━━━━━━━━━━━━━━━━━━━━━━━\u001b[0m \u001b[32m77.9/77.9 kB\u001b[0m \u001b[31m7.8 MB/s\u001b[0m eta \u001b[36m0:00:00\u001b[0m\n",
            "\u001b[2K     \u001b[90m━━━━━━━━━━━━━━━━━━━━━━━━━━━━━━━━━━━━━━━━\u001b[0m \u001b[32m58.3/58.3 kB\u001b[0m \u001b[31m5.4 MB/s\u001b[0m eta \u001b[36m0:00:00\u001b[0m\n",
            "\u001b[2K     \u001b[90m━━━━━━━━━━━━━━━━━━━━━━━━━━━━━━━━━━━━━━━━\u001b[0m \u001b[32m53.0/53.0 kB\u001b[0m \u001b[31m5.0 MB/s\u001b[0m eta \u001b[36m0:00:00\u001b[0m\n",
            "\u001b[2K     \u001b[90m━━━━━━━━━━━━━━━━━━━━━━━━━━━━━━━━━━━━━━━━\u001b[0m \u001b[32m141.1/141.1 kB\u001b[0m \u001b[31m11.6 MB/s\u001b[0m eta \u001b[36m0:00:00\u001b[0m\n",
            "\u001b[?25h"
          ]
        }
      ],
      "source": [
        "!pip install -qU \\\n",
        "  python-dotenv \\\n",
        "  langchain \\\n",
        "  anthropic \\\n",
        "  langchain-anthropic \\\n",
        "  google-cloud-bigquery"
      ]
    },
    {
      "cell_type": "markdown",
      "source": [
        "#Fetching BigQuery Schemas"
      ],
      "metadata": {
        "id": "B_iTgzf6rniZ"
      }
    },
    {
      "cell_type": "markdown",
      "source": [
        "Before we can generate SQL queries, we need to fetch the schemas of the tables in our BigQuery dataset.\n",
        "The fetch_schemas function retrieves the schema descriptions for all tables in a given dataset."
      ],
      "metadata": {
        "id": "k_R082S9rq6V"
      }
    },
    {
      "cell_type": "code",
      "source": [
        "def build_schema_desc(fields, prefix=\"\"):\n",
        "    \"\"\"Build schema description, including nested fields.\"\"\"\n",
        "    desc = []\n",
        "    for f in fields:\n",
        "        d = f\"{prefix}- Name: {f.name}, Type: {f.field_type}, Mode: {f.mode}\"\n",
        "        desc.append(d)\n",
        "        if f.field_type == 'RECORD':\n",
        "            sub_desc = build_schema_desc(f.fields, prefix + \"    \")\n",
        "            desc.extend(sub_desc)\n",
        "    return desc\n",
        "\n",
        "\n",
        "def fetch_schemas(dataset_id, client):\n",
        "    \"\"\"Fetch schema descriptions for all tables in a dataset.\"\"\"\n",
        "    schemas = []\n",
        "    simple_table_list = []\n",
        "\n",
        "    tables = client.list_tables(dataset_id)\n",
        "    for table in tables:\n",
        "        ref = client.get_table(table)\n",
        "\n",
        "        simple_table_list.append(f\"- {ref.project}.{ref.dataset_id}.{ref.table_id}\")\n",
        "\n",
        "        schema_desc = [f\"Schema for {table.table_id}:\"]\n",
        "        schema_desc += build_schema_desc(ref.schema)\n",
        "        schema_desc.append(\"\")  # For newline\n",
        "\n",
        "        schemas += schema_desc\n",
        "\n",
        "    return \"\\n\".join(simple_table_list) + \"\\n\\n\" + \"\\n\".join(schemas)"
      ],
      "metadata": {
        "id": "0pIgosThx7P7"
      },
      "execution_count": null,
      "outputs": []
    },
    {
      "cell_type": "markdown",
      "source": [
        "The function builds a schema description by iterating over the fields of each table and appending the field name, type, and mode to the description. It also handles nested fields by recursively calling itself with the appropriate prefix."
      ],
      "metadata": {
        "id": "NAUO6c0zr2Cm"
      }
    },
    {
      "cell_type": "code",
      "source": [
        "#print(fetch_schemas(full_dataset_id,gbq_client))"
      ],
      "metadata": {
        "id": "8p-LkOwSffk1"
      },
      "execution_count": null,
      "outputs": []
    },
    {
      "cell_type": "markdown",
      "source": [
        "#Connecting to BigQuery"
      ],
      "metadata": {
        "id": "_ANE2Ezzr8sS"
      }
    },
    {
      "cell_type": "markdown",
      "source": [
        "To interact with BigQuery, we must set up the necessary credentials and create a client object. We load the service account key from a JSON file and initialize the bigquery.Client with the credentials."
      ],
      "metadata": {
        "id": "7hIWMneZsA2O"
      }
    },
    {
      "cell_type": "code",
      "source": [
        "from google.cloud import bigquery\n",
        "from google.oauth2 import service_account\n",
        "\n",
        "service_account_path = './yourkey.json'\n",
        "\n",
        "project=\"your_project\"\n",
        "dataset=\"your_dataset\"\n",
        "full_dataset_id = f\"{project}.{dataset}\"\n",
        "\n",
        "url = f'bigquery://{project}/{dataset}?credentials_path={service_account_path}'\n",
        "\n",
        "credentials = service_account.Credentials.from_service_account_file(service_account_path)\n",
        "gbq_client = bigquery.Client(credentials=credentials, project=credentials.project_id)"
      ],
      "metadata": {
        "id": "woh8nr6Nx770"
      },
      "execution_count": null,
      "outputs": []
    },
    {
      "cell_type": "markdown",
      "source": [
        "#Setting up the LLM"
      ],
      "metadata": {
        "id": "OTcSAohisDl1"
      }
    },
    {
      "cell_type": "markdown",
      "source": [
        "For this tutorial, we will be using the Claude-3 model from Anthropic. We load the environment variables from a .env file and create an instance of ChatAnthropic with the desired model."
      ],
      "metadata": {
        "id": "GJfIdge3sFfn"
      }
    },
    {
      "cell_type": "code",
      "source": [
        "import os\n",
        "from dotenv import load_dotenv\n",
        "\n",
        "load_dotenv()\n",
        "\n",
        "from langchain_anthropic import ChatAnthropic\n",
        "llm_claude3 = ChatAnthropic(model='claude-3-opus-20240229')"
      ],
      "metadata": {
        "id": "nHV2j_l0x_Tm"
      },
      "execution_count": null,
      "outputs": []
    },
    {
      "cell_type": "markdown",
      "source": [
        "## Setup SQL Chain"
      ],
      "metadata": {
        "id": "6TEnV0m3Di36"
      }
    },
    {
      "cell_type": "code",
      "source": [
        "from langchain_core.prompts import ChatPromptTemplate\n",
        "from langchain_core.output_parsers import StrOutputParser\n",
        "from langchain_core.runnables import RunnablePassthrough"
      ],
      "metadata": {
        "id": "BUC9PcaoyD3_"
      },
      "execution_count": null,
      "outputs": []
    },
    {
      "cell_type": "code",
      "source": [
        "template = \"\"\"Based on the BigQuery schema below, write a SQL query\n",
        "(only return clean SQL no quotes or text)  that answers the question/request.\n",
        "Write main query ALIAS in short simple capital letters.\n",
        "Remember to UNNEST repeated records and CAST timestamps/dates in the right format when comparing or subtracting:\n",
        "schema:{schema}\n",
        "Question: {question}\n",
        "SQL Query:\"\"\"\n",
        "prompt = ChatPromptTemplate.from_template(template)"
      ],
      "metadata": {
        "id": "CvNLMYQ5yGIy"
      },
      "execution_count": null,
      "outputs": []
    },
    {
      "cell_type": "code",
      "source": [
        "def get_schema(_):\n",
        "    return fetch_schemas(full_dataset_id,gbq_client)\n",
        "\n",
        "\n",
        "sql_chain = (\n",
        "    RunnablePassthrough.assign(schema=get_schema)\n",
        "    | prompt\n",
        "    | llm_claude3.bind(stop=[\"\\nSQLResult:\"])\n",
        "    | StrOutputParser()\n",
        ")"
      ],
      "metadata": {
        "id": "jE6QRtYVyMla"
      },
      "execution_count": null,
      "outputs": []
    },
    {
      "cell_type": "markdown",
      "source": [
        "#Generating SQL Queries"
      ],
      "metadata": {
        "id": "cfTjEVWDsPh5"
      }
    },
    {
      "cell_type": "code",
      "source": [
        "#Test the SQL Chain\n",
        "res=sql_chain.invoke({\"question\": 'New vs Repeat Revenue over time in the last 30 days'})\n",
        "print(res)\n",
        "gbq_client.query(res).to_dataframe()"
      ],
      "metadata": {
        "id": "oU99wlhFyj-P",
        "colab": {
          "base_uri": "https://localhost:8080/",
          "height": 1000
        },
        "outputId": "9b3bc8c4-3d98-4540-9522-8cc193ae960a"
      },
      "execution_count": null,
      "outputs": [
        {
          "output_type": "stream",
          "name": "stdout",
          "text": [
            "WITH ORDERS AS (\n",
            "  SELECT\n",
            "    o.id AS order_id,\n",
            "    o.createdAt AS order_created_at,\n",
            "    o.currencyCode AS currency_code,\n",
            "    o.customer.id AS customer_id,\n",
            "    o.lineItems,\n",
            "    MIN(o.createdAt) OVER (PARTITION BY o.customer.id) AS first_order_date\n",
            "  FROM rabbitpromotion.ecomdata_looker.orders o\n",
            "  WHERE o.createdAt >= TIMESTAMP_SUB(CURRENT_TIMESTAMP(), INTERVAL 30 DAY)\n",
            "),\n",
            "\n",
            "ORDER_ITEMS AS (\n",
            "  SELECT\n",
            "    order_id,\n",
            "    order_created_at,\n",
            "    currency_code,\n",
            "    customer_id,\n",
            "    first_order_date,\n",
            "    SUM(lineItem.price) AS order_value\n",
            "  FROM ORDERS o, UNNEST(o.lineItems) lineItem\n",
            "  GROUP BY 1, 2, 3, 4, 5\n",
            ")\n",
            "\n",
            "SELECT\n",
            "  DATE(order_created_at) AS order_date,\n",
            "  SUM(CASE WHEN order_created_at = first_order_date THEN order_value ELSE 0 END) AS new_revenue,\n",
            "  SUM(CASE WHEN order_created_at > first_order_date THEN order_value ELSE 0 END) AS repeat_revenue\n",
            "FROM ORDER_ITEMS\n",
            "GROUP BY 1\n",
            "ORDER BY 1\n"
          ]
        },
        {
          "output_type": "execute_result",
          "data": {
            "text/plain": [
              "    order_date  new_revenue  repeat_revenue\n",
              "0   2024-03-22      1990.95            0.00\n",
              "1   2024-03-23     13830.13            0.00\n",
              "2   2024-03-24     13480.42            0.00\n",
              "3   2024-03-25     11852.86            0.00\n",
              "4   2024-03-26     15579.42            0.00\n",
              "5   2024-03-27     19304.81            0.00\n",
              "6   2024-03-28     12544.98          221.69\n",
              "7   2024-03-29      9179.01            0.00\n",
              "8   2024-03-30     10459.50            0.00\n",
              "9   2024-03-31     13377.17            0.00\n",
              "10  2024-04-01     14915.36          216.91\n",
              "11  2024-04-02     16461.25            0.00\n",
              "12  2024-04-03     11293.57            0.00\n",
              "13  2024-04-04     11967.90            0.00\n",
              "14  2024-04-05     10137.73          294.29\n",
              "15  2024-04-06     13701.27         1133.78\n",
              "16  2024-04-07     12951.16          630.20\n",
              "17  2024-04-08     11522.80            0.00\n",
              "18  2024-04-09      7566.42         1084.68\n",
              "19  2024-04-10     11017.08            0.00\n",
              "20  2024-04-11      7643.01          804.26\n",
              "21  2024-04-12     10810.15          570.73\n",
              "22  2024-04-13     11970.08          919.74\n",
              "23  2024-04-14     10958.77          529.92\n",
              "24  2024-04-15      8703.21         1002.36\n",
              "25  2024-04-16     14638.44          175.97\n",
              "26  2024-04-17     13050.57          631.42\n",
              "27  2024-04-18     12995.17          875.27\n",
              "28  2024-04-19      8010.92            0.00\n",
              "29  2024-04-20     22415.82          162.24\n",
              "30  2024-04-21      5099.56          348.64"
            ],
            "text/html": [
              "\n",
              "  <div id=\"df-da10aa6d-a58d-4188-b526-f2341b665466\" class=\"colab-df-container\">\n",
              "    <div>\n",
              "<style scoped>\n",
              "    .dataframe tbody tr th:only-of-type {\n",
              "        vertical-align: middle;\n",
              "    }\n",
              "\n",
              "    .dataframe tbody tr th {\n",
              "        vertical-align: top;\n",
              "    }\n",
              "\n",
              "    .dataframe thead th {\n",
              "        text-align: right;\n",
              "    }\n",
              "</style>\n",
              "<table border=\"1\" class=\"dataframe\">\n",
              "  <thead>\n",
              "    <tr style=\"text-align: right;\">\n",
              "      <th></th>\n",
              "      <th>order_date</th>\n",
              "      <th>new_revenue</th>\n",
              "      <th>repeat_revenue</th>\n",
              "    </tr>\n",
              "  </thead>\n",
              "  <tbody>\n",
              "    <tr>\n",
              "      <th>0</th>\n",
              "      <td>2024-03-22</td>\n",
              "      <td>1990.95</td>\n",
              "      <td>0.00</td>\n",
              "    </tr>\n",
              "    <tr>\n",
              "      <th>1</th>\n",
              "      <td>2024-03-23</td>\n",
              "      <td>13830.13</td>\n",
              "      <td>0.00</td>\n",
              "    </tr>\n",
              "    <tr>\n",
              "      <th>2</th>\n",
              "      <td>2024-03-24</td>\n",
              "      <td>13480.42</td>\n",
              "      <td>0.00</td>\n",
              "    </tr>\n",
              "    <tr>\n",
              "      <th>3</th>\n",
              "      <td>2024-03-25</td>\n",
              "      <td>11852.86</td>\n",
              "      <td>0.00</td>\n",
              "    </tr>\n",
              "    <tr>\n",
              "      <th>4</th>\n",
              "      <td>2024-03-26</td>\n",
              "      <td>15579.42</td>\n",
              "      <td>0.00</td>\n",
              "    </tr>\n",
              "    <tr>\n",
              "      <th>5</th>\n",
              "      <td>2024-03-27</td>\n",
              "      <td>19304.81</td>\n",
              "      <td>0.00</td>\n",
              "    </tr>\n",
              "    <tr>\n",
              "      <th>6</th>\n",
              "      <td>2024-03-28</td>\n",
              "      <td>12544.98</td>\n",
              "      <td>221.69</td>\n",
              "    </tr>\n",
              "    <tr>\n",
              "      <th>7</th>\n",
              "      <td>2024-03-29</td>\n",
              "      <td>9179.01</td>\n",
              "      <td>0.00</td>\n",
              "    </tr>\n",
              "    <tr>\n",
              "      <th>8</th>\n",
              "      <td>2024-03-30</td>\n",
              "      <td>10459.50</td>\n",
              "      <td>0.00</td>\n",
              "    </tr>\n",
              "    <tr>\n",
              "      <th>9</th>\n",
              "      <td>2024-03-31</td>\n",
              "      <td>13377.17</td>\n",
              "      <td>0.00</td>\n",
              "    </tr>\n",
              "    <tr>\n",
              "      <th>10</th>\n",
              "      <td>2024-04-01</td>\n",
              "      <td>14915.36</td>\n",
              "      <td>216.91</td>\n",
              "    </tr>\n",
              "    <tr>\n",
              "      <th>11</th>\n",
              "      <td>2024-04-02</td>\n",
              "      <td>16461.25</td>\n",
              "      <td>0.00</td>\n",
              "    </tr>\n",
              "    <tr>\n",
              "      <th>12</th>\n",
              "      <td>2024-04-03</td>\n",
              "      <td>11293.57</td>\n",
              "      <td>0.00</td>\n",
              "    </tr>\n",
              "    <tr>\n",
              "      <th>13</th>\n",
              "      <td>2024-04-04</td>\n",
              "      <td>11967.90</td>\n",
              "      <td>0.00</td>\n",
              "    </tr>\n",
              "    <tr>\n",
              "      <th>14</th>\n",
              "      <td>2024-04-05</td>\n",
              "      <td>10137.73</td>\n",
              "      <td>294.29</td>\n",
              "    </tr>\n",
              "    <tr>\n",
              "      <th>15</th>\n",
              "      <td>2024-04-06</td>\n",
              "      <td>13701.27</td>\n",
              "      <td>1133.78</td>\n",
              "    </tr>\n",
              "    <tr>\n",
              "      <th>16</th>\n",
              "      <td>2024-04-07</td>\n",
              "      <td>12951.16</td>\n",
              "      <td>630.20</td>\n",
              "    </tr>\n",
              "    <tr>\n",
              "      <th>17</th>\n",
              "      <td>2024-04-08</td>\n",
              "      <td>11522.80</td>\n",
              "      <td>0.00</td>\n",
              "    </tr>\n",
              "    <tr>\n",
              "      <th>18</th>\n",
              "      <td>2024-04-09</td>\n",
              "      <td>7566.42</td>\n",
              "      <td>1084.68</td>\n",
              "    </tr>\n",
              "    <tr>\n",
              "      <th>19</th>\n",
              "      <td>2024-04-10</td>\n",
              "      <td>11017.08</td>\n",
              "      <td>0.00</td>\n",
              "    </tr>\n",
              "    <tr>\n",
              "      <th>20</th>\n",
              "      <td>2024-04-11</td>\n",
              "      <td>7643.01</td>\n",
              "      <td>804.26</td>\n",
              "    </tr>\n",
              "    <tr>\n",
              "      <th>21</th>\n",
              "      <td>2024-04-12</td>\n",
              "      <td>10810.15</td>\n",
              "      <td>570.73</td>\n",
              "    </tr>\n",
              "    <tr>\n",
              "      <th>22</th>\n",
              "      <td>2024-04-13</td>\n",
              "      <td>11970.08</td>\n",
              "      <td>919.74</td>\n",
              "    </tr>\n",
              "    <tr>\n",
              "      <th>23</th>\n",
              "      <td>2024-04-14</td>\n",
              "      <td>10958.77</td>\n",
              "      <td>529.92</td>\n",
              "    </tr>\n",
              "    <tr>\n",
              "      <th>24</th>\n",
              "      <td>2024-04-15</td>\n",
              "      <td>8703.21</td>\n",
              "      <td>1002.36</td>\n",
              "    </tr>\n",
              "    <tr>\n",
              "      <th>25</th>\n",
              "      <td>2024-04-16</td>\n",
              "      <td>14638.44</td>\n",
              "      <td>175.97</td>\n",
              "    </tr>\n",
              "    <tr>\n",
              "      <th>26</th>\n",
              "      <td>2024-04-17</td>\n",
              "      <td>13050.57</td>\n",
              "      <td>631.42</td>\n",
              "    </tr>\n",
              "    <tr>\n",
              "      <th>27</th>\n",
              "      <td>2024-04-18</td>\n",
              "      <td>12995.17</td>\n",
              "      <td>875.27</td>\n",
              "    </tr>\n",
              "    <tr>\n",
              "      <th>28</th>\n",
              "      <td>2024-04-19</td>\n",
              "      <td>8010.92</td>\n",
              "      <td>0.00</td>\n",
              "    </tr>\n",
              "    <tr>\n",
              "      <th>29</th>\n",
              "      <td>2024-04-20</td>\n",
              "      <td>22415.82</td>\n",
              "      <td>162.24</td>\n",
              "    </tr>\n",
              "    <tr>\n",
              "      <th>30</th>\n",
              "      <td>2024-04-21</td>\n",
              "      <td>5099.56</td>\n",
              "      <td>348.64</td>\n",
              "    </tr>\n",
              "  </tbody>\n",
              "</table>\n",
              "</div>\n",
              "    <div class=\"colab-df-buttons\">\n",
              "\n",
              "  <div class=\"colab-df-container\">\n",
              "    <button class=\"colab-df-convert\" onclick=\"convertToInteractive('df-da10aa6d-a58d-4188-b526-f2341b665466')\"\n",
              "            title=\"Convert this dataframe to an interactive table.\"\n",
              "            style=\"display:none;\">\n",
              "\n",
              "  <svg xmlns=\"http://www.w3.org/2000/svg\" height=\"24px\" viewBox=\"0 -960 960 960\">\n",
              "    <path d=\"M120-120v-720h720v720H120Zm60-500h600v-160H180v160Zm220 220h160v-160H400v160Zm0 220h160v-160H400v160ZM180-400h160v-160H180v160Zm440 0h160v-160H620v160ZM180-180h160v-160H180v160Zm440 0h160v-160H620v160Z\"/>\n",
              "  </svg>\n",
              "    </button>\n",
              "\n",
              "  <style>\n",
              "    .colab-df-container {\n",
              "      display:flex;\n",
              "      gap: 12px;\n",
              "    }\n",
              "\n",
              "    .colab-df-convert {\n",
              "      background-color: #E8F0FE;\n",
              "      border: none;\n",
              "      border-radius: 50%;\n",
              "      cursor: pointer;\n",
              "      display: none;\n",
              "      fill: #1967D2;\n",
              "      height: 32px;\n",
              "      padding: 0 0 0 0;\n",
              "      width: 32px;\n",
              "    }\n",
              "\n",
              "    .colab-df-convert:hover {\n",
              "      background-color: #E2EBFA;\n",
              "      box-shadow: 0px 1px 2px rgba(60, 64, 67, 0.3), 0px 1px 3px 1px rgba(60, 64, 67, 0.15);\n",
              "      fill: #174EA6;\n",
              "    }\n",
              "\n",
              "    .colab-df-buttons div {\n",
              "      margin-bottom: 4px;\n",
              "    }\n",
              "\n",
              "    [theme=dark] .colab-df-convert {\n",
              "      background-color: #3B4455;\n",
              "      fill: #D2E3FC;\n",
              "    }\n",
              "\n",
              "    [theme=dark] .colab-df-convert:hover {\n",
              "      background-color: #434B5C;\n",
              "      box-shadow: 0px 1px 3px 1px rgba(0, 0, 0, 0.15);\n",
              "      filter: drop-shadow(0px 1px 2px rgba(0, 0, 0, 0.3));\n",
              "      fill: #FFFFFF;\n",
              "    }\n",
              "  </style>\n",
              "\n",
              "    <script>\n",
              "      const buttonEl =\n",
              "        document.querySelector('#df-da10aa6d-a58d-4188-b526-f2341b665466 button.colab-df-convert');\n",
              "      buttonEl.style.display =\n",
              "        google.colab.kernel.accessAllowed ? 'block' : 'none';\n",
              "\n",
              "      async function convertToInteractive(key) {\n",
              "        const element = document.querySelector('#df-da10aa6d-a58d-4188-b526-f2341b665466');\n",
              "        const dataTable =\n",
              "          await google.colab.kernel.invokeFunction('convertToInteractive',\n",
              "                                                    [key], {});\n",
              "        if (!dataTable) return;\n",
              "\n",
              "        const docLinkHtml = 'Like what you see? Visit the ' +\n",
              "          '<a target=\"_blank\" href=https://colab.research.google.com/notebooks/data_table.ipynb>data table notebook</a>'\n",
              "          + ' to learn more about interactive tables.';\n",
              "        element.innerHTML = '';\n",
              "        dataTable['output_type'] = 'display_data';\n",
              "        await google.colab.output.renderOutput(dataTable, element);\n",
              "        const docLink = document.createElement('div');\n",
              "        docLink.innerHTML = docLinkHtml;\n",
              "        element.appendChild(docLink);\n",
              "      }\n",
              "    </script>\n",
              "  </div>\n",
              "\n",
              "\n",
              "<div id=\"df-4858f8b0-9240-44d5-95fe-829d4607ecf3\">\n",
              "  <button class=\"colab-df-quickchart\" onclick=\"quickchart('df-4858f8b0-9240-44d5-95fe-829d4607ecf3')\"\n",
              "            title=\"Suggest charts\"\n",
              "            style=\"display:none;\">\n",
              "\n",
              "<svg xmlns=\"http://www.w3.org/2000/svg\" height=\"24px\"viewBox=\"0 0 24 24\"\n",
              "     width=\"24px\">\n",
              "    <g>\n",
              "        <path d=\"M19 3H5c-1.1 0-2 .9-2 2v14c0 1.1.9 2 2 2h14c1.1 0 2-.9 2-2V5c0-1.1-.9-2-2-2zM9 17H7v-7h2v7zm4 0h-2V7h2v10zm4 0h-2v-4h2v4z\"/>\n",
              "    </g>\n",
              "</svg>\n",
              "  </button>\n",
              "\n",
              "<style>\n",
              "  .colab-df-quickchart {\n",
              "      --bg-color: #E8F0FE;\n",
              "      --fill-color: #1967D2;\n",
              "      --hover-bg-color: #E2EBFA;\n",
              "      --hover-fill-color: #174EA6;\n",
              "      --disabled-fill-color: #AAA;\n",
              "      --disabled-bg-color: #DDD;\n",
              "  }\n",
              "\n",
              "  [theme=dark] .colab-df-quickchart {\n",
              "      --bg-color: #3B4455;\n",
              "      --fill-color: #D2E3FC;\n",
              "      --hover-bg-color: #434B5C;\n",
              "      --hover-fill-color: #FFFFFF;\n",
              "      --disabled-bg-color: #3B4455;\n",
              "      --disabled-fill-color: #666;\n",
              "  }\n",
              "\n",
              "  .colab-df-quickchart {\n",
              "    background-color: var(--bg-color);\n",
              "    border: none;\n",
              "    border-radius: 50%;\n",
              "    cursor: pointer;\n",
              "    display: none;\n",
              "    fill: var(--fill-color);\n",
              "    height: 32px;\n",
              "    padding: 0;\n",
              "    width: 32px;\n",
              "  }\n",
              "\n",
              "  .colab-df-quickchart:hover {\n",
              "    background-color: var(--hover-bg-color);\n",
              "    box-shadow: 0 1px 2px rgba(60, 64, 67, 0.3), 0 1px 3px 1px rgba(60, 64, 67, 0.15);\n",
              "    fill: var(--button-hover-fill-color);\n",
              "  }\n",
              "\n",
              "  .colab-df-quickchart-complete:disabled,\n",
              "  .colab-df-quickchart-complete:disabled:hover {\n",
              "    background-color: var(--disabled-bg-color);\n",
              "    fill: var(--disabled-fill-color);\n",
              "    box-shadow: none;\n",
              "  }\n",
              "\n",
              "  .colab-df-spinner {\n",
              "    border: 2px solid var(--fill-color);\n",
              "    border-color: transparent;\n",
              "    border-bottom-color: var(--fill-color);\n",
              "    animation:\n",
              "      spin 1s steps(1) infinite;\n",
              "  }\n",
              "\n",
              "  @keyframes spin {\n",
              "    0% {\n",
              "      border-color: transparent;\n",
              "      border-bottom-color: var(--fill-color);\n",
              "      border-left-color: var(--fill-color);\n",
              "    }\n",
              "    20% {\n",
              "      border-color: transparent;\n",
              "      border-left-color: var(--fill-color);\n",
              "      border-top-color: var(--fill-color);\n",
              "    }\n",
              "    30% {\n",
              "      border-color: transparent;\n",
              "      border-left-color: var(--fill-color);\n",
              "      border-top-color: var(--fill-color);\n",
              "      border-right-color: var(--fill-color);\n",
              "    }\n",
              "    40% {\n",
              "      border-color: transparent;\n",
              "      border-right-color: var(--fill-color);\n",
              "      border-top-color: var(--fill-color);\n",
              "    }\n",
              "    60% {\n",
              "      border-color: transparent;\n",
              "      border-right-color: var(--fill-color);\n",
              "    }\n",
              "    80% {\n",
              "      border-color: transparent;\n",
              "      border-right-color: var(--fill-color);\n",
              "      border-bottom-color: var(--fill-color);\n",
              "    }\n",
              "    90% {\n",
              "      border-color: transparent;\n",
              "      border-bottom-color: var(--fill-color);\n",
              "    }\n",
              "  }\n",
              "</style>\n",
              "\n",
              "  <script>\n",
              "    async function quickchart(key) {\n",
              "      const quickchartButtonEl =\n",
              "        document.querySelector('#' + key + ' button');\n",
              "      quickchartButtonEl.disabled = true;  // To prevent multiple clicks.\n",
              "      quickchartButtonEl.classList.add('colab-df-spinner');\n",
              "      try {\n",
              "        const charts = await google.colab.kernel.invokeFunction(\n",
              "            'suggestCharts', [key], {});\n",
              "      } catch (error) {\n",
              "        console.error('Error during call to suggestCharts:', error);\n",
              "      }\n",
              "      quickchartButtonEl.classList.remove('colab-df-spinner');\n",
              "      quickchartButtonEl.classList.add('colab-df-quickchart-complete');\n",
              "    }\n",
              "    (() => {\n",
              "      let quickchartButtonEl =\n",
              "        document.querySelector('#df-4858f8b0-9240-44d5-95fe-829d4607ecf3 button');\n",
              "      quickchartButtonEl.style.display =\n",
              "        google.colab.kernel.accessAllowed ? 'block' : 'none';\n",
              "    })();\n",
              "  </script>\n",
              "</div>\n",
              "    </div>\n",
              "  </div>\n"
            ],
            "application/vnd.google.colaboratory.intrinsic+json": {
              "type": "dataframe",
              "summary": "{\n  \"name\": \"gbq_client\",\n  \"rows\": 31,\n  \"fields\": [\n    {\n      \"column\": \"order_date\",\n      \"properties\": {\n        \"dtype\": \"dbdate\",\n        \"num_unique_values\": 31,\n        \"samples\": [\n          \"2024-04-18\",\n          \"2024-04-06\",\n          \"2024-04-14\"\n        ],\n        \"semantic_type\": \"\",\n        \"description\": \"\"\n      }\n    },\n    {\n      \"column\": \"new_revenue\",\n      \"properties\": {\n        \"dtype\": \"number\",\n        \"std\": 3893.0454341654636,\n        \"min\": 1990.9499999999998,\n        \"max\": 22415.82,\n        \"num_unique_values\": 31,\n        \"samples\": [\n          12995.17,\n          13701.27,\n          10958.77\n        ],\n        \"semantic_type\": \"\",\n        \"description\": \"\"\n      }\n    },\n    {\n      \"column\": \"repeat_revenue\",\n      \"properties\": {\n        \"dtype\": \"number\",\n        \"std\": 387.96022336377877,\n        \"min\": 0.0,\n        \"max\": 1133.78,\n        \"num_unique_values\": 17,\n        \"samples\": [\n          0.0,\n          221.69,\n          630.2\n        ],\n        \"semantic_type\": \"\",\n        \"description\": \"\"\n      }\n    }\n  ]\n}"
            }
          },
          "metadata": {},
          "execution_count": 69
        }
      ]
    },
    {
      "cell_type": "code",
      "source": [
        "create_bigquery_view('looker_studio_views', 'new_vs_repeat_revenue', gbq_client, res)"
      ],
      "metadata": {
        "colab": {
          "base_uri": "https://localhost:8080/"
        },
        "id": "DR2ukm4HkQfl",
        "outputId": "a63c8811-2437-4ce3-b6b4-effa3a908739"
      },
      "execution_count": null,
      "outputs": [
        {
          "output_type": "stream",
          "name": "stdout",
          "text": [
            "WITH ORDERS AS (\n",
            "  SELECT\n",
            "    o.id AS order_id,\n",
            "    o.createdAt AS order_created_at,\n",
            "    o.currencyCode AS currency_code,\n",
            "    o.customer.id AS customer_id,\n",
            "    o.lineItems,\n",
            "    MIN(o.createdAt) OVER (PARTITION BY o.customer.id) AS first_order_date\n",
            "  FROM rabbitpromotion.ecomdata_looker.orders o\n",
            "  WHERE o.createdAt >= TIMESTAMP_SUB(CURRENT_TIMESTAMP(), INTERVAL 30 DAY)\n",
            "),\n",
            "\n",
            "ORDER_ITEMS AS (\n",
            "  SELECT\n",
            "    order_id,\n",
            "    order_created_at,\n",
            "    currency_code,\n",
            "    customer_id,\n",
            "    first_order_date,\n",
            "    SUM(lineItem.price) AS order_value\n",
            "  FROM ORDERS o, UNNEST(o.lineItems) lineItem\n",
            "  GROUP BY 1, 2, 3, 4, 5\n",
            ")\n",
            "\n",
            "SELECT\n",
            "  DATE(order_created_at) AS order_date,\n",
            "  SUM(CASE WHEN order_created_at = first_order_date THEN order_value ELSE 0 END) AS new_revenue,\n",
            "  SUM(CASE WHEN order_created_at > first_order_date THEN order_value ELSE 0 END) AS repeat_revenue\n",
            "FROM ORDER_ITEMS\n",
            "GROUP BY 1\n",
            "ORDER BY 1\n",
            "    order_date  new_revenue  repeat_revenue\n",
            "0   2024-03-22      1990.95            0.00\n",
            "1   2024-03-23     13830.13            0.00\n",
            "2   2024-03-24     13480.42            0.00\n",
            "3   2024-03-25     11852.86            0.00\n",
            "4   2024-03-26     15579.42            0.00\n",
            "5   2024-03-27     19304.81            0.00\n",
            "6   2024-03-28     12544.98          221.69\n",
            "7   2024-03-29      9179.01            0.00\n",
            "8   2024-03-30     10459.50            0.00\n",
            "9   2024-03-31     13377.17            0.00\n",
            "10  2024-04-01     14915.36          216.91\n",
            "11  2024-04-02     16461.25            0.00\n",
            "12  2024-04-03     11293.57            0.00\n",
            "13  2024-04-04     11967.90            0.00\n",
            "14  2024-04-05     10137.73          294.29\n",
            "15  2024-04-06     13701.27         1133.78\n",
            "16  2024-04-07     12951.16          630.20\n",
            "17  2024-04-08     11522.80            0.00\n",
            "18  2024-04-09      7566.42         1084.68\n",
            "19  2024-04-10     11017.08            0.00\n",
            "20  2024-04-11      7643.01          804.26\n",
            "21  2024-04-12     10810.15          570.73\n",
            "22  2024-04-13     11970.08          919.74\n",
            "23  2024-04-14     10958.77          529.92\n",
            "24  2024-04-15      8703.21         1002.36\n",
            "25  2024-04-16     14638.44          175.97\n",
            "26  2024-04-17     13050.57          631.42\n",
            "27  2024-04-18     12995.17          875.27\n",
            "28  2024-04-19      8010.92            0.00\n",
            "29  2024-04-20     22415.82          162.24\n",
            "30  2024-04-21      5099.56          348.64\n",
            "Created VIEW 'new_vs_repeat_revenue' successfully.\n"
          ]
        }
      ]
    },
    {
      "cell_type": "markdown",
      "source": [
        "#Loading Insights from a File"
      ],
      "metadata": {
        "id": "wegCUS8ssXER"
      }
    },
    {
      "cell_type": "code",
      "source": [
        "# Load insights from text file\n",
        "def load_insights(file_path):\n",
        "    with open(file_path, 'r') as file:\n",
        "        insights = [line.strip() for line in file.readlines()]\n",
        "    return insights"
      ],
      "metadata": {
        "id": "3MVVTZZpm7Pf"
      },
      "execution_count": null,
      "outputs": []
    },
    {
      "cell_type": "code",
      "source": [
        "insights = load_insights('insight_wishlist.txt')"
      ],
      "metadata": {
        "id": "EbJciXGMm9Wj"
      },
      "execution_count": null,
      "outputs": []
    },
    {
      "cell_type": "code",
      "source": [
        "insights"
      ],
      "metadata": {
        "colab": {
          "base_uri": "https://localhost:8080/"
        },
        "id": "i91b9U_wor2z",
        "outputId": "2a11a181-2bf6-445a-8b12-9de845aefc4b"
      },
      "execution_count": null,
      "outputs": [
        {
          "output_type": "execute_result",
          "data": {
            "text/plain": [
              "['New customers in the last 30 days',\n",
              " 'New orders in the last 30 days',\n",
              " 'Total revenue in the last 30 days',\n",
              " 'Repeat revenue in the last 30 days',\n",
              " 'AOV overall',\n",
              " 'Repeat order rate overall',\n",
              " 'New vs Repeat Revenue over time in the last 30 days',\n",
              " 'Top 10 product pairs most frequently bought together',\n",
              " 'Revenue by acquisition channel by gender in the last 30 days for a bar chart',\n",
              " 'Revenue by city for the top 25 cities ranked by revenue']"
            ]
          },
          "metadata": {},
          "execution_count": 12
        }
      ]
    },
    {
      "cell_type": "markdown",
      "source": [
        "## Generate View Descriptions"
      ],
      "metadata": {
        "id": "KExNBS9fDcXw"
      }
    },
    {
      "cell_type": "code",
      "source": [
        "system_prompt=\"\"\"\n",
        "You write short names for views based on input and return list of strings that can be processed in Python\n",
        "\"\"\""
      ],
      "metadata": {
        "id": "t5IejsJwnVtE"
      },
      "execution_count": null,
      "outputs": []
    },
    {
      "cell_type": "code",
      "source": [
        "view_description_prompt=f\"\"\"\n",
        "Write a short name for a bigquery view for each insight description. Only return names in a python list\n",
        "no other text. Use underscore if necessary:\n",
        "\n",
        "List of insights:    {insights}\n",
        "\"\"\""
      ],
      "metadata": {
        "id": "BSuO7S6YmSzo"
      },
      "execution_count": null,
      "outputs": []
    },
    {
      "cell_type": "code",
      "source": [
        "from langchain_core.messages import HumanMessage, SystemMessage\n",
        "\n",
        "messages = [\n",
        "    SystemMessage(content=system_prompt),\n",
        "    HumanMessage(content=view_description_prompt),\n",
        "]"
      ],
      "metadata": {
        "id": "WR3M_jXgmznC"
      },
      "execution_count": null,
      "outputs": []
    },
    {
      "cell_type": "code",
      "source": [
        "descriptions=llm_claude3.invoke(messages)"
      ],
      "metadata": {
        "id": "0TnhfMNSnGWf"
      },
      "execution_count": null,
      "outputs": []
    },
    {
      "cell_type": "code",
      "source": [
        "import ast\n",
        "\n",
        "view_names=ast.literal_eval(descriptions.content)"
      ],
      "metadata": {
        "id": "L9ABrKLtoHib"
      },
      "execution_count": null,
      "outputs": []
    },
    {
      "cell_type": "code",
      "source": [
        "view_names"
      ],
      "metadata": {
        "colab": {
          "base_uri": "https://localhost:8080/"
        },
        "id": "gzwt9kBITOwU",
        "outputId": "3044ad67-76ed-4c94-b7cc-0108d948d27c"
      },
      "execution_count": null,
      "outputs": [
        {
          "output_type": "execute_result",
          "data": {
            "text/plain": [
              "['new_customers_last_30_days',\n",
              " 'new_orders_last_30_days',\n",
              " 'total_revenue_last_30_days',\n",
              " 'repeat_revenue_last_30_days',\n",
              " 'aov_overall',\n",
              " 'repeat_order_rate_overall',\n",
              " 'new_vs_repeat_revenue_over_time_last_30_days',\n",
              " 'top_10_product_pairs_frequently_bought_together',\n",
              " 'revenue_by_acquisition_channel_by_gender_last_30_days_bar_chart',\n",
              " 'revenue_by_city_top_25_cities_by_revenue']"
            ]
          },
          "metadata": {},
          "execution_count": 18
        }
      ]
    },
    {
      "cell_type": "markdown",
      "source": [
        "## Create Views"
      ],
      "metadata": {
        "id": "EK9xAuI_DsFa"
      }
    },
    {
      "cell_type": "markdown",
      "source": [
        "Finally, we process the insights and create BigQuery views using the process_insights function. This function iterates over the insights and view names, generates SQL queries using the SQL chain, and creates views in BigQuery."
      ],
      "metadata": {
        "id": "MpFST8vxsxo6"
      }
    },
    {
      "cell_type": "code",
      "source": [
        "# Function to create a BigQuery view\n",
        "def create_bigquery_view(dataset_id, view_name, gbq_client, query):\n",
        "    # Create a full view ID with the dataset and project ID\n",
        "    print(query)\n",
        "    print(gbq_client.query(query).to_dataframe())\n",
        "    full_view_id = f\"{gbq_client.project}.{dataset_id}.{view_name}\"\n",
        "    view = bigquery.Table(full_view_id)\n",
        "    view.view_query = query\n",
        "    view = gbq_client.create_table(view)  # API request to create the view\n",
        "    print(f\"Created {view.table_type} '{view.table_id}' successfully.\")\n",
        "\n",
        "# Main function to process insights and create views\n",
        "def process_insights(dataset_name, insights, view_names, sql_chain, gbq_client):\n",
        "    for insight, view_name in zip(insights, view_names):\n",
        "        attempt_count = 0\n",
        "        success = False\n",
        "        while not success and attempt_count < 3:  # Retry up to 3 times\n",
        "            try:\n",
        "                # Generate SQL query from insight\n",
        "                sql_query = sql_chain.invoke({\"question\": insight})\n",
        "\n",
        "                # Execute the query to test if it works before creating a view\n",
        "                query_job = gbq_client.query(sql_query)\n",
        "                query_job.result()  # Wait for the query to complete\n",
        "\n",
        "                # If successful, create the view\n",
        "                create_bigquery_view(dataset_name, view_name, gbq_client, sql_query)\n",
        "                success = True\n",
        "            except Exception as e:\n",
        "                print(f\"Failed to execute query for '{insight}': {e}\")\n",
        "                attempt_count += 1\n",
        "                if attempt_count == 3:\n",
        "                    print(f\"Max retries reached for '{insight}'. Moving to the next one.\")\n",
        "\n",
        "\n"
      ],
      "metadata": {
        "id": "wVho9xvBIGkp"
      },
      "execution_count": null,
      "outputs": []
    },
    {
      "cell_type": "code",
      "source": [
        "insights = load_insights('insight_wishlist.txt')\n",
        "insights"
      ],
      "metadata": {
        "colab": {
          "base_uri": "https://localhost:8080/"
        },
        "id": "u_2UqGaH4bZc",
        "outputId": "89fc8aff-dd54-4d8e-8ca8-b03df08f2a6f"
      },
      "execution_count": null,
      "outputs": [
        {
          "output_type": "execute_result",
          "data": {
            "text/plain": [
              "['New customers in the last 30 days',\n",
              " 'New orders in the last 30 days',\n",
              " 'Total revenue in the last 30 days',\n",
              " 'Repeat revenue in the last 30 days',\n",
              " 'AOV overall',\n",
              " 'Repeat order rate overall',\n",
              " 'New vs Repeat Revenue over time in the last 30 days',\n",
              " 'Top 10 product pairs most frequently bought together',\n",
              " 'Revenue by acquisition channel by gender in the last 30 days for a bar chart',\n",
              " 'Revenue by city for the top 25 cities ranked by revenue']"
            ]
          },
          "metadata": {},
          "execution_count": 51
        }
      ]
    },
    {
      "cell_type": "code",
      "source": [
        "view_names"
      ],
      "metadata": {
        "colab": {
          "base_uri": "https://localhost:8080/"
        },
        "id": "4qoXVStJ4gbq",
        "outputId": "f21f79ac-0238-4104-dcdc-280c1bf179d3"
      },
      "execution_count": null,
      "outputs": [
        {
          "output_type": "execute_result",
          "data": {
            "text/plain": [
              "['new_customers_last_30_days',\n",
              " 'new_orders_last_30_days',\n",
              " 'total_revenue_last_30_days',\n",
              " 'repeat_revenue_last_30_days',\n",
              " 'aov_overall',\n",
              " 'repeat_order_rate_overall',\n",
              " 'new_vs_repeat_revenue_over_time_last_30_days',\n",
              " 'top_10_product_pairs_frequently_bought_together',\n",
              " 'revenue_by_acquisition_channel_by_gender_last_30_days_bar_chart',\n",
              " 'revenue_by_city_top_25_cities_by_revenue']"
            ]
          },
          "metadata": {},
          "execution_count": 52
        }
      ]
    },
    {
      "cell_type": "code",
      "source": [
        "dataset_name = 'looker_studio_views'\n",
        "process_insights(dataset_name, insights, view_names,sql_chain, gbq_client)"
      ],
      "metadata": {
        "colab": {
          "base_uri": "https://localhost:8080/"
        },
        "id": "nOP_vLMXIGu3",
        "outputId": "b3196769-4955-4cd0-a4e1-739aeee94d2a"
      },
      "execution_count": null,
      "outputs": [
        {
          "output_type": "stream",
          "name": "stdout",
          "text": [
            "SELECT COUNT(DISTINCT c.id) AS NEW_CUSTOMERS_30D\n",
            "FROM rabbitpromotion.ecomdata_looker.customers c\n",
            "WHERE c.createdAt >= TIMESTAMP_SUB(CURRENT_TIMESTAMP(), INTERVAL 30 DAY)\n",
            "   NEW_CUSTOMERS_30D\n",
            "0                742\n",
            "Created VIEW 'new_customers_last_30_days' successfully.\n",
            "SELECT\n",
            "  COUNT(*) AS NEW_ORDERS_LAST_30_DAYS\n",
            "FROM\n",
            "  `rabbitpromotion.ecomdata_looker.orders`\n",
            "WHERE\n",
            "  CAST(createdAt AS DATE) >= DATE_SUB(CURRENT_DATE(), INTERVAL 30 DAY)\n",
            "   NEW_ORDERS_LAST_30_DAYS\n",
            "0                      872\n",
            "Created VIEW 'new_orders_last_30_days' successfully.\n",
            "SELECT\n",
            "  SUM(li.price) AS REVENUE_LAST_30D\n",
            "FROM\n",
            "  `rabbitpromotion.ecomdata_looker.orders` o\n",
            "CROSS JOIN\n",
            "  UNNEST(o.lineItems) AS li\n",
            "WHERE\n",
            "  o.createdAt >= TIMESTAMP_SUB(CURRENT_TIMESTAMP(), INTERVAL 30 DAY)\n",
            "   REVENUE_LAST_30D\n",
            "0         379973.16\n",
            "Created VIEW 'total_revenue_last_30_days' successfully.\n",
            "SELECT\n",
            "  SUM(LI.price) AS REPEAT_REVENUE_LAST_30D\n",
            "FROM\n",
            "  `rabbitpromotion.ecomdata_looker.orders` O\n",
            "  CROSS JOIN UNNEST(lineItems) AS LI\n",
            "WHERE\n",
            "  O.createdAt BETWEEN TIMESTAMP_SUB(CURRENT_TIMESTAMP(), INTERVAL 30 DAY) AND CURRENT_TIMESTAMP()\n",
            "  AND EXISTS (\n",
            "    SELECT\n",
            "      1\n",
            "    FROM\n",
            "      `rabbitpromotion.ecomdata_looker.orders` O2\n",
            "      CROSS JOIN UNNEST(lineItems) AS LI2\n",
            "    WHERE\n",
            "      O2.customer.id = O.customer.id\n",
            "      AND O2.id <> O.id\n",
            "      AND O2.createdAt < O.createdAt\n",
            "      AND LI2.productId = LI.productId\n",
            "  )\n",
            "   REPEAT_REVENUE_LAST_30D\n",
            "0                  38425.2\n",
            "Created VIEW 'repeat_revenue_last_30_days' successfully.\n",
            "SELECT\n",
            "  ROUND(SUM(LI.price) / COUNT(DISTINCT O.id), 2) AS AOV\n",
            "FROM\n",
            "  `rabbitpromotion.ecomdata_looker.orders` O,\n",
            "  UNNEST(lineItems) AS LI\n",
            "      AOV\n",
            "0  462.01\n",
            "Created VIEW 'aov_overall' successfully.\n",
            "WITH RO AS (\n",
            "  SELECT \n",
            "    C.id AS customer_id,\n",
            "    COUNT(DISTINCT O.id) AS order_count\n",
            "  FROM rabbitpromotion.ecomdata_looker.customers C\n",
            "  LEFT JOIN rabbitpromotion.ecomdata_looker.orders O\n",
            "    ON C.id = O.customer.id\n",
            "  GROUP BY C.id\n",
            "  HAVING COUNT(DISTINCT O.id) > 1\n",
            "),\n",
            "CO AS (\n",
            "  SELECT\n",
            "    COUNT(DISTINCT C.id) AS total_customers  \n",
            "  FROM rabbitpromotion.ecomdata_looker.customers C\n",
            ")\n",
            "SELECT\n",
            "  ROUND(COUNT(DISTINCT RO.customer_id) * 1.0 / MAX(CO.total_customers), 2) AS repeat_order_rate\n",
            "FROM RO, CO\n",
            "   repeat_order_rate\n",
            "0               0.31\n",
            "Created VIEW 'repeat_order_rate_overall' successfully.\n",
            "Failed to execute query for 'New vs Repeat Revenue over time in the last 30 days': 400 Grouping by expressions of type ARRAY is not allowed at [21:5]; reason: invalidQuery, location: query, message: Grouping by expressions of type ARRAY is not allowed at [21:5]\n",
            "\n",
            "Location: EU\n",
            "Job ID: 32aea633-3538-4035-9f28-cb1ff8de1728\n",
            "\n",
            "WITH NR AS (\n",
            "  SELECT\n",
            "    DATE(o.createdAt) AS OrderDate,\n",
            "    SUM(li.price) AS Revenue,\n",
            "    CASE WHEN COUNT(DISTINCT o.customer.id) = 1 THEN 'New'\n",
            "         WHEN COUNT(DISTINCT o.customer.id) > 1 THEN 'Repeat'\n",
            "    END AS CustomerType\n",
            "  FROM rabbitpromotion.ecomdata_looker.orders o\n",
            "  CROSS JOIN UNNEST(o.lineItems) li\n",
            "  WHERE o.createdAt >= TIMESTAMP_SUB(CURRENT_TIMESTAMP(), INTERVAL 30 DAY)\n",
            "  GROUP BY 1, o.customer.id\n",
            ")\n",
            "SELECT\n",
            "  OrderDate,\n",
            "  SUM(CASE WHEN CustomerType = 'New' THEN Revenue ELSE 0 END) AS NewRevenue,\n",
            "  SUM(CASE WHEN CustomerType = 'Repeat' THEN Revenue ELSE 0 END) AS RepeatRevenue\n",
            "FROM NR\n",
            "GROUP BY 1\n",
            "ORDER BY 1\n",
            "     OrderDate  NewRevenue  RepeatRevenue\n",
            "0   2024-03-22     2597.29            0.0\n",
            "1   2024-03-23    13830.13            0.0\n",
            "2   2024-03-24    13480.42            0.0\n",
            "3   2024-03-25    11852.86            0.0\n",
            "4   2024-03-26    15579.42            0.0\n",
            "5   2024-03-27    19304.81            0.0\n",
            "6   2024-03-28    12766.67            0.0\n",
            "7   2024-03-29     9179.01            0.0\n",
            "8   2024-03-30    10459.50            0.0\n",
            "9   2024-03-31    13377.17            0.0\n",
            "10  2024-04-01    15132.27            0.0\n",
            "11  2024-04-02    16461.25            0.0\n",
            "12  2024-04-03    11293.57            0.0\n",
            "13  2024-04-04    11967.90            0.0\n",
            "14  2024-04-05    10432.02            0.0\n",
            "15  2024-04-06    14835.05            0.0\n",
            "16  2024-04-07    13581.36            0.0\n",
            "17  2024-04-08    11522.80            0.0\n",
            "18  2024-04-09     8651.10            0.0\n",
            "19  2024-04-10    11017.08            0.0\n",
            "20  2024-04-11     8447.27            0.0\n",
            "21  2024-04-12    11380.88            0.0\n",
            "22  2024-04-13    12889.82            0.0\n",
            "23  2024-04-14    11488.69            0.0\n",
            "24  2024-04-15     9705.57            0.0\n",
            "25  2024-04-16    14814.41            0.0\n",
            "26  2024-04-17    13681.99            0.0\n",
            "27  2024-04-18    13870.44            0.0\n",
            "28  2024-04-19     8010.92            0.0\n",
            "29  2024-04-20    22578.06            0.0\n",
            "30  2024-04-21     5448.20            0.0\n",
            "Created VIEW 'new_vs_repeat_revenue_over_time_last_30_days' successfully.\n",
            "SELECT\n",
            "  P1.title AS PRODUCT1,\n",
            "  P2.title AS PRODUCT2,\n",
            "  COUNT(*) AS COUNT\n",
            "FROM\n",
            "  rabbitpromotion.ecomdata_looker.orders O\n",
            "JOIN\n",
            "  UNNEST(O.lineItems) L1\n",
            "JOIN\n",
            "  UNNEST(O.lineItems) L2\n",
            "JOIN\n",
            "  rabbitpromotion.ecomdata_looker.products P1\n",
            "ON\n",
            "  L1.productId = P1.id\n",
            "JOIN\n",
            "  rabbitpromotion.ecomdata_looker.products P2  \n",
            "ON\n",
            "  L2.productId = P2.id\n",
            "WHERE\n",
            "  P1.title < P2.title\n",
            "GROUP BY\n",
            "  1, 2\n",
            "ORDER BY\n",
            "  COUNT DESC\n",
            "LIMIT\n",
            "  10\n",
            "                         PRODUCT1                                  PRODUCT2  \\\n",
            "0      Nike Zoom X Invincible Run                                  Vans Era   \n",
            "1               Adidas Stan Smith                    Air Max 90 X Off-White   \n",
            "2                      Air Jordan                    Air Max 90 X Off-White   \n",
            "3             Air Jordan 1 Low SE                            Vans Old Skool   \n",
            "4  Air Jordan 1 Low Yellow Strike                    Air Max 90 X Off-White   \n",
            "5            Nike Pegasus Trail 3                Pharrell Williams x Adidas   \n",
            "6       Saucony Endorphin Speed 2  VANS | ERA 59 MOROCCAN | GEO/DRESS BLUES   \n",
            "7                      Adidas NMD                         Adidas Stan Smith   \n",
            "8     Nike React Infinity Run FK2                            Vans Old Skool   \n",
            "9          Adidas Yeezy Boost 350                           Yeezy Boost 500   \n",
            "\n",
            "   COUNT  \n",
            "0    190  \n",
            "1    183  \n",
            "2    178  \n",
            "3    177  \n",
            "4    174  \n",
            "5    173  \n",
            "6    173  \n",
            "7    172  \n",
            "8    172  \n",
            "9    172  \n",
            "Created VIEW 'top_10_product_pairs_frequently_bought_together' successfully.\n",
            "SELECT\n",
            "  CT.acquisitionSource AS ACQUISITION_SOURCE,\n",
            "  CT.predictedGender AS GENDER,\n",
            "  SUM(LI.price) AS REVENUE\n",
            "FROM rabbitpromotion.ecomdata_looker.orders O\n",
            "CROSS JOIN UNNEST(O.lineItems) AS LI\n",
            "JOIN rabbitpromotion.ecomdata_looker.customer_tags CT ON O.customer.id = CT.id\n",
            "WHERE\n",
            "  O.createdAt >= TIMESTAMP_SUB(CURRENT_TIMESTAMP(), INTERVAL 30 DAY)\n",
            "GROUP BY\n",
            "  ACQUISITION_SOURCE,\n",
            "  GENDER\n",
            "ORDER BY\n",
            "  ACQUISITION_SOURCE,\n",
            "  GENDER\n",
            "   ACQUISITION_SOURCE   GENDER   REVENUE\n",
            "0              Direct   Female  20006.02\n",
            "1              Direct     Male  20755.32\n",
            "2              Direct  Unknown  33477.12\n",
            "3               Email   Female  27315.71\n",
            "4               Email     Male  28394.67\n",
            "5               Email  Unknown  28377.06\n",
            "6            Referral   Female  26966.24\n",
            "7            Referral     Male  26973.19\n",
            "8            Referral  Unknown  22848.71\n",
            "9       Search Engine   Female  22575.14\n",
            "10      Search Engine     Male  21397.16\n",
            "11      Search Engine  Unknown  23639.28\n",
            "12       Social Media   Female  27902.87\n",
            "13       Social Media     Male  22410.21\n",
            "14       Social Media  Unknown  26599.23\n",
            "Created VIEW 'revenue_by_acquisition_channel_by_gender_last_30_days_bar_chart' successfully.\n",
            "SELECT\n",
            "  C.city AS CITY,\n",
            "  SUM(LI.price) AS REVENUE\n",
            "FROM rabbitpromotion.ecomdata_looker.orders O\n",
            "CROSS JOIN UNNEST(O.lineItems) AS LI\n",
            "JOIN rabbitpromotion.ecomdata_looker.customers C ON O.customer.id = C.id\n",
            "WHERE C.city IS NOT NULL\n",
            "GROUP BY C.city\n",
            "ORDER BY REVENUE DESC\n",
            "LIMIT 25;\n",
            "             CITY    REVENUE\n",
            "0         Seattle  219126.24\n",
            "1           Tulsa  218075.29\n",
            "2         Raleigh  216800.48\n",
            "3        San Jose  202661.48\n",
            "4       San Diego  202653.51\n",
            "5         El Paso  200985.90\n",
            "6       Baltimore  199565.37\n",
            "7         Phoenix  199241.38\n",
            "8          Tucson  193778.34\n",
            "9      Louisville  192861.72\n",
            "10      Arlington  192529.26\n",
            "11        Atlanta  192405.61\n",
            "12    Albuquerque  192160.74\n",
            "13  Oklahoma City  190931.85\n",
            "14    Los Angeles  190148.51\n",
            "15          Tampa  189479.09\n",
            "16    New Orleans  188752.06\n",
            "17       Portland  188353.60\n",
            "18         Austin  187954.20\n",
            "19   Jacksonville  187493.94\n",
            "20   Indianapolis  186723.13\n",
            "21     Long Beach  186446.27\n",
            "22    San Antonio  184872.58\n",
            "23        Houston  184206.24\n",
            "24     Washington  183267.02\n",
            "Created VIEW 'revenue_by_city_top_25_cities_by_revenue' successfully.\n"
          ]
        }
      ]
    },
    {
      "cell_type": "markdown",
      "source": [
        "#Setting Up The Dashboard\n"
      ],
      "metadata": {
        "id": "Nvlj4TATs1Ot"
      }
    },
    {
      "cell_type": "markdown",
      "source": [
        "Step 1: Initiate a New Looker Studio Report\n",
        "*   Navigate to Looker Studio.\n",
        "*   Start a new report by selecting the + New Report option.\n",
        "\n",
        "Step 2: Connect to BigQuery\n",
        "*   Within your new report, click on Add Data.\n",
        "*   From the list of data sources, select BigQuery.\n",
        "\n",
        "Step 3: Choose Your BigQuery Project and Dataset\n",
        "\n",
        "*   Find your BigQuery project in the list and expand it.\n",
        "*   Select the dataset that contains the view you want to use.\n",
        "\n",
        "Step 4: Integrate BigQuery Views\n",
        "*   After connecting, you will see a list of fields from your BigQuery view.\n",
        "*   Add the desired fields to your report.\n",
        "\n",
        "Step 5: Layout Your Dashboard\n",
        "\n",
        "*   Drag and drop the selected fields onto the report canvas to create visualizations.\n",
        "*   Pick chart types and adjust their settings to fit the data representation you need.\n",
        "\n",
        "Step 6: Apply Styling\n",
        "*   Use Theme and Layout tools to style your dashboard.\n",
        "*   Arrange your elements neatly for clarity.\n",
        "\n",
        "Step 7: Implement Interactive Controls\n",
        "*   From the toolbar, add interactive controls like date range selectors or filters.\n",
        "*   Link these controls to your data elements for dynamic interactivity.\n",
        "\n",
        "\n",
        "\n",
        "Step 8: Finalize and Share\n",
        "\n",
        "*   Use the View mode to preview your dashboard's functionality.\n",
        "\n",
        "*   Share the finished dashboard by clicking on Share, and set the viewing or\n",
        "editing permissions as needed."
      ],
      "metadata": {
        "id": "c5--qmIps6Ri"
      }
    },
    {
      "cell_type": "markdown",
      "source": [
        "![image_2024-05-02_101210643.png](data:image/png;base64,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)"
      ],
      "metadata": {
        "id": "BBcP2tQopfC7"
      }
    },
    {
      "cell_type": "code",
      "source": [],
      "metadata": {
        "id": "9W-5jYTwIG2l"
      },
      "execution_count": null,
      "outputs": []
    },
    {
      "cell_type": "code",
      "source": [],
      "metadata": {
        "id": "RGWziDOnIG5s"
      },
      "execution_count": null,
      "outputs": []
    },
    {
      "cell_type": "code",
      "source": [],
      "metadata": {
        "id": "1RkGUyh3IG8r"
      },
      "execution_count": null,
      "outputs": []
    },
    {
      "cell_type": "code",
      "source": [],
      "metadata": {
        "id": "u_M-ilV0IG_T"
      },
      "execution_count": null,
      "outputs": []
    },
    {
      "cell_type": "code",
      "source": [],
      "metadata": {
        "id": "plNKw0MZIHB0"
      },
      "execution_count": null,
      "outputs": []
    }
  ]
}